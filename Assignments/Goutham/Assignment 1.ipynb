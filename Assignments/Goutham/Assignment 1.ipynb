{
 "cells": [
  {
   "cell_type": "markdown",
   "id": "b7a8a025",
   "metadata": {},
   "source": [
    "## Q1) Assign your Name to variable name and Age to variable age. Make a Python program that prints your name and age."
   ]
  },
  {
   "cell_type": "code",
   "execution_count": 7,
   "id": "7710eefd",
   "metadata": {},
   "outputs": [],
   "source": [
    "name=\"Goutham\"\n",
    "age=20"
   ]
  },
  {
   "cell_type": "code",
   "execution_count": 12,
   "id": "2fa1ff04",
   "metadata": {},
   "outputs": [
    {
     "name": "stdout",
     "output_type": "stream",
     "text": [
      "My name is Goutham and i am 20 years old\n"
     ]
    }
   ],
   "source": [
    "print(\"My name is \"+name+\" and i am \"+str(age)+\" years old\")"
   ]
  },
  {
   "cell_type": "markdown",
   "id": "27187b98",
   "metadata": {},
   "source": [
    "## Q2)X=\"Datascience is used to extract meaningful insights.\" Split the string"
   ]
  },
  {
   "cell_type": "code",
   "execution_count": 15,
   "id": "4fb5307e",
   "metadata": {},
   "outputs": [
    {
     "name": "stdout",
     "output_type": "stream",
     "text": [
      "['Datascience', 'is', 'used', 'to', 'extract', 'meaningful', 'insights.']\n"
     ]
    }
   ],
   "source": [
    "X=\"Datascience is used to extract meaningful insights.\" \n",
    "text = X.split()\n",
    "print(text)"
   ]
  },
  {
   "cell_type": "markdown",
   "id": "8a513d01",
   "metadata": {},
   "source": [
    "## Q3) Make a function that gives multiplication of two numbers"
   ]
  },
  {
   "cell_type": "code",
   "execution_count": 17,
   "id": "8832454a",
   "metadata": {},
   "outputs": [],
   "source": [
    "def multiplication(a,b):\n",
    "    p=a*b\n",
    "    print(\"Multiplication of two numbers: \",p)"
   ]
  },
  {
   "cell_type": "code",
   "execution_count": 18,
   "id": "e922258d",
   "metadata": {},
   "outputs": [
    {
     "name": "stdout",
     "output_type": "stream",
     "text": [
      "Multiplication of two numbers:  1320\n"
     ]
    }
   ],
   "source": [
    "a=60\n",
    "b=22\n",
    "multiplication(a,b)"
   ]
  },
  {
   "cell_type": "markdown",
   "id": "d6c7859e",
   "metadata": {},
   "source": [
    "## Q4) Create a Dictionary of 5 States with their capitals. also print the keys and values."
   ]
  },
  {
   "cell_type": "code",
   "execution_count": 19,
   "id": "88f2660a",
   "metadata": {},
   "outputs": [],
   "source": [
    "StateAndCap={\n",
    "    \"Tamil Nadu\":\"Chennai\",\n",
    "    \"Andhra Pradesh\":\"Amaravati\",\n",
    "    \"Uttar Pradesh\":\"Lucknow\",\n",
    "    \"Karnataka\":\"Bengaluru\",\n",
    "    \"Kerala\":\"Thiruvananthapuram\"\n",
    "}"
   ]
  },
  {
   "cell_type": "code",
   "execution_count": 20,
   "id": "cca10dc8",
   "metadata": {},
   "outputs": [
    {
     "name": "stdout",
     "output_type": "stream",
     "text": [
      "{'Tamil Nadu': 'Chennai', 'Andhra Pradesh': 'Amaravati', 'Uttar Pradesh': 'Lucknow', 'Karnataka': 'Bengaluru', 'Kerala': 'Thiruvananthapuram'}\n"
     ]
    }
   ],
   "source": [
    "print(StateAndCap)"
   ]
  },
  {
   "cell_type": "markdown",
   "id": "c56d961e",
   "metadata": {},
   "source": [
    "## Q5) Create a list of 1000 numbers using range function."
   ]
  },
  {
   "cell_type": "code",
   "execution_count": 23,
   "id": "9f0f1544",
   "metadata": {},
   "outputs": [
    {
     "name": "stdout",
     "output_type": "stream",
     "text": [
      "<class 'list'>\n"
     ]
    }
   ],
   "source": [
    "x = list(range(1000))\n",
    "print(type(x))"
   ]
  },
  {
   "cell_type": "markdown",
   "id": "92702b96",
   "metadata": {},
   "source": [
    "## Q6) Create an identity matrix of dimension 4 by 4"
   ]
  },
  {
   "cell_type": "code",
   "execution_count": 24,
   "id": "77a767d0",
   "metadata": {},
   "outputs": [
    {
     "name": "stdout",
     "output_type": "stream",
     "text": [
      "[[1 0 0 0]\n",
      " [0 1 0 0]\n",
      " [0 0 1 0]\n",
      " [0 0 0 1]]\n"
     ]
    }
   ],
   "source": [
    "import numpy as np\n",
    "identity_matrix = np.identity(4, dtype=\"int\")\n",
    "print(identity_matrix)"
   ]
  },
  {
   "cell_type": "markdown",
   "id": "bb347fcb",
   "metadata": {},
   "source": [
    "## Q7) Create a 3x3 matrix with values ranging from 1 to 9"
   ]
  },
  {
   "cell_type": "code",
   "execution_count": 26,
   "id": "4241f04b",
   "metadata": {},
   "outputs": [
    {
     "data": {
      "text/plain": [
       "array([[1, 2, 3],\n",
       "       [4, 5, 6],\n",
       "       [7, 8, 9]])"
      ]
     },
     "execution_count": 26,
     "metadata": {},
     "output_type": "execute_result"
    }
   ],
   "source": [
    "np.arange(1,10).reshape((3,3))    "
   ]
  },
  {
   "cell_type": "markdown",
   "id": "dd73c926",
   "metadata": {},
   "source": [
    "## Q8) Create 2 similar dimensional array and perform sum on them."
   ]
  },
  {
   "cell_type": "code",
   "execution_count": 28,
   "id": "0ef1a538",
   "metadata": {},
   "outputs": [
    {
     "name": "stdout",
     "output_type": "stream",
     "text": [
      "Sum =  26\n"
     ]
    }
   ],
   "source": [
    "arr = [[1, 2, 3], [4, 5, 6], [2, 1, 2]]\n",
    "SUM=sum(map(sum,arr))\n",
    "print (\"Sum = \",SUM)"
   ]
  },
  {
   "cell_type": "markdown",
   "id": "4637a9f2",
   "metadata": {},
   "source": [
    "## Q9) Generate the series of dates from 1st Feb, 2023 to 1st March, 2023 (both inclusive)"
   ]
  },
  {
   "cell_type": "code",
   "execution_count": 29,
   "id": "8af9ade2",
   "metadata": {},
   "outputs": [
    {
     "name": "stdout",
     "output_type": "stream",
     "text": [
      "2023-02-01\n",
      "2023-02-02\n",
      "2023-02-03\n",
      "2023-02-04\n",
      "2023-02-05\n",
      "2023-02-06\n",
      "2023-02-07\n",
      "2023-02-08\n",
      "2023-02-09\n",
      "2023-02-10\n",
      "2023-02-11\n",
      "2023-02-12\n",
      "2023-02-13\n",
      "2023-02-14\n",
      "2023-02-15\n",
      "2023-02-16\n",
      "2023-02-17\n",
      "2023-02-18\n",
      "2023-02-19\n",
      "2023-02-20\n",
      "2023-02-21\n",
      "2023-02-22\n",
      "2023-02-23\n",
      "2023-02-24\n",
      "2023-02-25\n",
      "2023-02-26\n",
      "2023-02-27\n",
      "2023-02-28\n",
      "2023-03-01\n"
     ]
    }
   ],
   "source": [
    "from datetime import date, timedelta\n",
    "\n",
    "start_date = date(2023, 2, 1) \n",
    "end_date = date(2023, 3, 1)   \n",
    "\n",
    "delta = end_date - start_date   \\\n",
    "\n",
    "for i in range(delta.days + 1):\n",
    "    day = start_date + timedelta(days=i)\n",
    "    print(day)"
   ]
  },
  {
   "cell_type": "markdown",
   "id": "f594f7e2",
   "metadata": {},
   "source": [
    "## Q10) Given a dictionary, convert it into corresponding dataframe and display it dictionary = {'Brand': ['Maruti', 'Renault', 'Hyndai'], 'Sales' : [250, 200, 240]}"
   ]
  },
  {
   "cell_type": "code",
   "execution_count": 31,
   "id": "02b3a191",
   "metadata": {},
   "outputs": [
    {
     "data": {
      "text/html": [
       "<div>\n",
       "<style scoped>\n",
       "    .dataframe tbody tr th:only-of-type {\n",
       "        vertical-align: middle;\n",
       "    }\n",
       "\n",
       "    .dataframe tbody tr th {\n",
       "        vertical-align: top;\n",
       "    }\n",
       "\n",
       "    .dataframe thead th {\n",
       "        text-align: right;\n",
       "    }\n",
       "</style>\n",
       "<table border=\"1\" class=\"dataframe\">\n",
       "  <thead>\n",
       "    <tr style=\"text-align: right;\">\n",
       "      <th></th>\n",
       "      <th>Brand</th>\n",
       "      <th>Sales</th>\n",
       "    </tr>\n",
       "  </thead>\n",
       "  <tbody>\n",
       "    <tr>\n",
       "      <th>0</th>\n",
       "      <td>Maruti</td>\n",
       "      <td>250</td>\n",
       "    </tr>\n",
       "    <tr>\n",
       "      <th>1</th>\n",
       "      <td>Renault</td>\n",
       "      <td>200</td>\n",
       "    </tr>\n",
       "    <tr>\n",
       "      <th>2</th>\n",
       "      <td>Hyndai</td>\n",
       "      <td>240</td>\n",
       "    </tr>\n",
       "  </tbody>\n",
       "</table>\n",
       "</div>"
      ],
      "text/plain": [
       "     Brand  Sales\n",
       "0   Maruti    250\n",
       "1  Renault    200\n",
       "2   Hyndai    240"
      ]
     },
     "execution_count": 31,
     "metadata": {},
     "output_type": "execute_result"
    }
   ],
   "source": [
    "import pandas as pd\n",
    "dictionary = {'Brand': ['Maruti', 'Renault', 'Hyndai'], 'Sales' : [250, 200, 240]}\n",
    "df=pd.DataFrame.from_dict(dictionary)\n",
    "df"
   ]
  }
 ],
 "metadata": {
  "kernelspec": {
   "display_name": "Python 3 (ipykernel)",
   "language": "python",
   "name": "python3"
  },
  "language_info": {
   "codemirror_mode": {
    "name": "ipython",
    "version": 3
   },
   "file_extension": ".py",
   "mimetype": "text/x-python",
   "name": "python",
   "nbconvert_exporter": "python",
   "pygments_lexer": "ipython3",
   "version": "3.9.7"
  }
 },
 "nbformat": 4,
 "nbformat_minor": 5
}
